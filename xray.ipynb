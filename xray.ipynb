{
 "cells": [
  {
   "cell_type": "code",
   "execution_count": 1,
   "metadata": {},
   "outputs": [],
   "source": [
    "pip install -r requirements.txt"
   ]
  },
  {
   "cell_type": "code",
   "execution_count": 2,
   "metadata": {},
   "outputs": [],
   "source": [
    "import numpy as np # linear algebra\n",
    "import pandas as pd # data processing, CSV file I/O (e.g. pd.read_csv)\n",
    "\n",
    "# Input data files are available in the read-only \"../input/\" directory\n",
    "# For example, running this (by clicking run or pressing Shift+Enter) will list all files under the input directory\n",
    "\n",
    "import os\n",
    "for dirname, _, filenames in os.walk('/kaggle/input'):\n",
    "    for filename in filenames:\n",
    "        pass\n",
    "#         print(os.path.join(dirname, filename))"
   ]
  },
  {
   "cell_type": "code",
   "execution_count": 3,
   "metadata": {},
   "outputs": [],
   "source": [
    "import os, warnings\n",
    "import numpy as np\n",
    "import tensorflow as tf\n",
    "from tensorflow.keras.preprocessing import image_dataset_from_directory\n",
    "import matplotlib.pyplot as plt\n",
    "warnings.filterwarnings('ignore')\n",
    "\n",
    "from tensorflow.keras.preprocessing.image import ImageDataGenerator"
   ]
  },
  {
   "cell_type": "code",
   "execution_count": 4,
   "metadata": {},
   "outputs": [],
   "source": [
    "def set_seed(seed):\n",
    "    np.random.seed(seed)\n",
    "    os.environ['PYTHONHASHSEED'] = str(seed)\n",
    "set_seed(42)"
   ]
  },
  {
   "cell_type": "code",
   "execution_count": 5,
   "metadata": {},
   "outputs": [],
   "source": [
    "plt.rc('figure', autolayout=True)\n",
    "plt.rc('axes', labelweight='bold', labelsize='large',\n",
    "       titleweight='bold', titlesize=18, titlepad=10)\n",
    "plt.rc('image', cmap='magma')\n",
    "warnings.filterwarnings(\"ignore\") # to clean up output cells"
   ]
  },
  {
   "cell_type": "code",
   "execution_count": 8,
   "metadata": {},
   "outputs": [
    {
     "name": "stderr",
     "output_type": "stream",
     "text": [
      "Cloning into 'Chext-X-ray-Images-Data-Set'...\n",
      "Updating files:   5% (128/2296)\n",
      "Updating files:   6% (138/2296)\n",
      "Updating files:   6% (142/2296)\n",
      "Updating files:   7% (161/2296)\n",
      "Updating files:   8% (184/2296)\n",
      "Updating files:   9% (207/2296)\n",
      "Updating files:  10% (230/2296)\n",
      "Updating files:  10% (241/2296)\n",
      "Updating files:  11% (253/2296)\n",
      "Updating files:  12% (276/2296)\n",
      "Updating files:  13% (299/2296)\n",
      "Updating files:  14% (322/2296)\n",
      "Updating files:  15% (345/2296)\n",
      "Updating files:  15% (358/2296)\n",
      "Updating files:  16% (368/2296)\n",
      "Updating files:  17% (391/2296)\n",
      "Updating files:  18% (414/2296)\n",
      "Updating files:  19% (437/2296)\n",
      "Updating files:  20% (460/2296)\n",
      "Updating files:  21% (483/2296)\n",
      "Updating files:  22% (506/2296)\n",
      "Updating files:  23% (529/2296)\n",
      "Updating files:  24% (552/2296)\n",
      "Updating files:  25% (574/2296)\n",
      "Updating files:  26% (597/2296)\n",
      "Updating files:  27% (620/2296)\n",
      "Updating files:  27% (635/2296)\n",
      "Updating files:  28% (643/2296)\n",
      "Updating files:  29% (666/2296)\n",
      "Updating files:  30% (689/2296)\n",
      "Updating files:  31% (712/2296)\n",
      "Updating files:  31% (714/2296)\n",
      "Updating files:  32% (735/2296)\n",
      "Updating files:  33% (758/2296)\n",
      "Updating files:  34% (781/2296)\n",
      "Updating files:  35% (804/2296)\n",
      "Updating files:  35% (824/2296)\n",
      "Updating files:  36% (827/2296)\n",
      "Updating files:  37% (850/2296)\n",
      "Updating files:  38% (873/2296)\n",
      "Updating files:  38% (877/2296)\n",
      "Updating files:  39% (896/2296)\n",
      "Updating files:  39% (899/2296)\n",
      "Updating files:  39% (909/2296)\n",
      "Updating files:  40% (919/2296)\n",
      "Updating files:  40% (934/2296)\n",
      "Updating files:  41% (942/2296)\n",
      "Updating files:  42% (965/2296)\n",
      "Updating files:  43% (988/2296)\n",
      "Updating files:  44% (1011/2296)\n",
      "Updating files:  45% (1034/2296)\n",
      "Updating files:  46% (1057/2296)\n",
      "Updating files:  46% (1065/2296)\n",
      "Updating files:  47% (1080/2296)\n",
      "Updating files:  48% (1103/2296)\n",
      "Updating files:  49% (1126/2296)\n",
      "Updating files:  50% (1148/2296)\n",
      "Updating files:  51% (1171/2296)\n",
      "Updating files:  52% (1194/2296)\n",
      "Updating files:  53% (1217/2296)\n",
      "Updating files:  54% (1240/2296)\n",
      "Updating files:  55% (1263/2296)\n",
      "Updating files:  55% (1284/2296)\n",
      "Updating files:  56% (1286/2296)\n",
      "Updating files:  57% (1309/2296)\n",
      "Updating files:  58% (1332/2296)\n",
      "Updating files:  59% (1355/2296)\n",
      "Updating files:  60% (1378/2296)\n",
      "Updating files:  61% (1401/2296)\n",
      "Updating files:  61% (1406/2296)\n",
      "Updating files:  62% (1424/2296)\n",
      "Updating files:  63% (1447/2296)\n",
      "Updating files:  64% (1470/2296)\n",
      "Updating files:  65% (1493/2296)\n",
      "Updating files:  65% (1504/2296)\n",
      "Updating files:  66% (1516/2296)\n",
      "Updating files:  67% (1539/2296)\n",
      "Updating files:  68% (1562/2296)\n",
      "Updating files:  69% (1585/2296)\n",
      "Updating files:  70% (1608/2296)\n",
      "Updating files:  71% (1631/2296)\n",
      "Updating files:  71% (1652/2296)\n",
      "Updating files:  72% (1654/2296)\n",
      "Updating files:  73% (1677/2296)\n",
      "Updating files:  74% (1700/2296)\n",
      "Updating files:  75% (1722/2296)\n",
      "Updating files:  76% (1745/2296)\n",
      "Updating files:  77% (1768/2296)\n",
      "Updating files:  77% (1780/2296)\n",
      "Updating files:  78% (1791/2296)\n",
      "Updating files:  79% (1814/2296)\n",
      "Updating files:  80% (1837/2296)\n",
      "Updating files:  81% (1860/2296)\n",
      "Updating files:  81% (1878/2296)\n",
      "Updating files:  82% (1883/2296)\n",
      "Updating files:  83% (1906/2296)\n",
      "Updating files:  84% (1929/2296)\n",
      "Updating files:  85% (1952/2296)\n",
      "Updating files:  86% (1975/2296)\n",
      "Updating files:  87% (1998/2296)\n",
      "Updating files:  88% (2021/2296)\n",
      "Updating files:  88% (2037/2296)\n",
      "Updating files:  89% (2044/2296)\n",
      "Updating files:  90% (2067/2296)\n",
      "Updating files:  91% (2090/2296)\n",
      "Updating files:  92% (2113/2296)\n",
      "Updating files:  93% (2136/2296)\n",
      "Updating files:  94% (2159/2296)\n",
      "Updating files:  95% (2182/2296)\n",
      "Updating files:  95% (2183/2296)\n",
      "Updating files:  96% (2205/2296)\n",
      "Updating files:  97% (2228/2296)\n",
      "Updating files:  98% (2251/2296)\n",
      "Updating files:  99% (2274/2296)\n",
      "Updating files: 100% (2296/2296)\n",
      "Updating files: 100% (2296/2296), done.\n"
     ]
    }
   ],
   "source": [
    "!git clone https://github.com/RishitToteja/Chext-X-ray-Images-Data-Set.git"
   ]
  },
  {
   "cell_type": "code",
   "execution_count": null,
   "metadata": {},
   "outputs": [],
   "source": [
    "data_path = 'C:\\\\Users\\\\Vinit\\\\OneDrive\\\\Desktop\\\\HealthCare\\\\healthcare_management_system\\\\Demo\\\\Chext-X-ray-Images-Data-Set\\\\DataSet\\\\Data'\n",
    "train_dir = 'C:\\\\Users\\\\Vinit\\\\OneDrive\\\\Desktop\\\\HealthCare\\\\healthcare_management_system\\\\Demo\\\\Chext-X-ray-Images-Data-Set\\\\DataSet\\\\Data\\\\train'\n",
    "test_dir = 'C:\\\\Users\\\\Vinit\\\\OneDrive\\\\Desktop\\\\HealthCare\\\\healthcare_management_system\\\\Demo\\\\Chext-X-ray-Images-Data-Set\\\\DataSet\\\\Data\\\\test'\n",
    "os.listdir(train_dir)\n",
    "os.listdir(test_dir)"
   ]
  },
  {
   "cell_type": "code",
   "execution_count": 18,
   "metadata": {},
   "outputs": [],
   "source": [
    "image_size=(224,224)\n",
    "batch_size=32"
   ]
  },
  {
   "cell_type": "code",
   "execution_count": 19,
   "metadata": {},
   "outputs": [],
   "source": [
    "from keras.callbacks import EarlyStopping\n",
    "es = EarlyStopping(monitor='val_loss', patience=5, verbose=1,min_delta=0.0001)"
   ]
  },
  {
   "cell_type": "code",
   "execution_count": 20,
   "metadata": {},
   "outputs": [
    {
     "name": "stdout",
     "output_type": "stream",
     "text": [
      "Found 1288 images belonging to 3 classes.\n",
      "Found 4116 images belonging to 3 classes.\n",
      "Found 1028 images belonging to 3 classes.\n"
     ]
    }
   ],
   "source": [
    "from tensorflow.keras.preprocessing.image import ImageDataGenerator\n",
    "from sklearn.model_selection import train_test_split\n",
    "\n",
    "train_datagen = ImageDataGenerator(\n",
    "    rescale=1./255,\n",
    "    rotation_range=20,  # Random rotation between -20 and 20 degrees\n",
    "    width_shift_range=0.1,  # Random shift in the width direction\n",
    "    height_shift_range=0.1,  # Random shift in the height direction\n",
    "    shear_range=0.1,  # Random shear within a range of 0.1 radians\n",
    "    zoom_range=0.1,  # Random zoom between 0.9 and 1.1\n",
    "    horizontal_flip=True,  # Random horizontal flipping\n",
    "    fill_mode='nearest'  # Fill any empty pixels with the nearest pixel value\n",
    ")\n",
    "\n",
    "test_datagen = ImageDataGenerator(rescale=1./255)\n",
    "\n",
    "train_datagen = ImageDataGenerator(\n",
    "    rescale=1./255,\n",
    "    validation_split=0.2,\n",
    "    rotation_range=20,  # Random rotation between -20 and 20 degrees\n",
    "    width_shift_range=0.1,  # Random shift in the width direction\n",
    "    height_shift_range=0.1,  # Random shift in the height direction\n",
    "    shear_range=0.1,  # Random shear within a range of 0.1 radians\n",
    "    zoom_range=0.1,  # Random zoom between 0.9 and 1.1\n",
    "    horizontal_flip=True,  # Random horizontal flipping\n",
    "    fill_mode='nearest'  # Fill any empty pixels with the nearest pixel value\n",
    ")\n",
    "\n",
    "test_datagen = ImageDataGenerator(rescale=1./255)\n",
    "test_generator=test_datagen.flow_from_directory(test_dir)\n",
    "\n",
    "\n",
    "train_generator = train_datagen.flow_from_directory(\n",
    "    train_dir,\n",
    "    target_size=(224, 224),\n",
    "    batch_size=128,\n",
    "    class_mode='categorical',\n",
    "    subset='training',  # Specify the subset as 'training' for train data\n",
    "    shuffle=True,  # Shuffle the data\n",
    "    seed=42)  # Set a random seed for reproducibility\n",
    "\n",
    "validation_generator = train_datagen.flow_from_directory(\n",
    "    train_dir,\n",
    "    target_size=(224, 224),\n",
    "    batch_size=128,\n",
    "    class_mode='categorical',\n",
    "    subset='validation',\n",
    "    shuffle=True,\n",
    "    seed=42)"
   ]
  },
  {
   "cell_type": "code",
   "execution_count": 21,
   "metadata": {},
   "outputs": [],
   "source": [
    "from tensorflow import keras\n",
    "from keras import preprocessing\n",
    "# Define the base model for transfer learning\n",
    "base_model = keras.applications.ResNet50V2(\n",
    "    include_top=False,\n",
    "    weights='imagenet',\n",
    "    input_shape=(128, 128, 3)\n",
    ")\n",
    "\n",
    "# Freeze the weights of the base model so that they are not updated during training\n",
    "for layer in base_model.layers:\n",
    "    layer.trainable = False\n",
    "\n",
    "# Create a new model by adding a classification head on top of the base model\n",
    "model = keras.models.Sequential()\n",
    "model.add(base_model)\n",
    "model.add(keras.layers.GlobalAveragePooling2D())\n",
    "model.add(keras.layers.Dense(256, activation='relu'))\n",
    "model.add(keras.layers.Dropout(0.5))\n",
    "model.add(keras.layers.Dense(3, activation='softmax'))\n",
    "\n",
    "# Compile the model with the Adam optimizer and categorical cross-entropy loss function\n",
    "model.compile(optimizer='adam', loss='categorical_crossentropy', metrics=['accuracy'])"
   ]
  },
  {
   "cell_type": "code",
   "execution_count": 22,
   "metadata": {},
   "outputs": [
    {
     "name": "stdout",
     "output_type": "stream",
     "text": [
      "Model: \"sequential_1\"\n",
      "_________________________________________________________________\n",
      " Layer (type)                Output Shape              Param #   \n",
      "=================================================================\n",
      " resnet50v2 (Functional)     (None, 4, 4, 2048)        23564800  \n",
      "                                                                 \n",
      " global_average_pooling2d_1   (None, 2048)             0         \n",
      " (GlobalAveragePooling2D)                                        \n",
      "                                                                 \n",
      " dense_2 (Dense)             (None, 256)               524544    \n",
      "                                                                 \n",
      " dropout_1 (Dropout)         (None, 256)               0         \n",
      "                                                                 \n",
      " dense_3 (Dense)             (None, 3)                 771       \n",
      "                                                                 \n",
      "=================================================================\n",
      "Total params: 24,090,115\n",
      "Trainable params: 525,315\n",
      "Non-trainable params: 23,564,800\n",
      "_________________________________________________________________\n"
     ]
    }
   ],
   "source": [
    "model.summary()"
   ]
  },
  {
   "cell_type": "code",
   "execution_count": 23,
   "metadata": {},
   "outputs": [
    {
     "name": "stdout",
     "output_type": "stream",
     "text": [
      "33/33 [==============================] - 269s 8s/step - loss: 0.5312 - accuracy: 0.8052 - val_loss: 0.2688 - val_accuracy: 0.9086\n"
     ]
    }
   ],
   "source": [
    "history=model.fit(\n",
    "    train_generator,\n",
    "    steps_per_epoch=len(train_generator),\n",
    "    epochs=1,\n",
    "    validation_data=validation_generator,\n",
    "    validation_steps=len(validation_generator),\n",
    "    callbacks=[es]\n",
    ")"
   ]
  },
  {
   "cell_type": "code",
   "execution_count": 24,
   "metadata": {},
   "outputs": [
    {
     "name": "stdout",
     "output_type": "stream",
     "text": [
      "training_accuracy 0.8051506280899048\n",
      "validation_accuracy 0.9085603356361389\n"
     ]
    }
   ],
   "source": [
    "print(\"training_accuracy\", history.history['accuracy'][-1])\n",
    "print(\"validation_accuracy\", history.history['val_accuracy'][-1])"
   ]
  },
  {
   "cell_type": "code",
   "execution_count": 25,
   "metadata": {},
   "outputs": [
    {
     "data": {
      "text/plain": [
       "<AxesSubplot:>"
      ]
     },
     "execution_count": 25,
     "metadata": {},
     "output_type": "execute_result"
    },
    {
     "data": {
      "image/png": "[encoded data removed]",
      "text/plain": [
       "<Figure size 432x288 with 1 Axes>"
      ]
     },
     "metadata": {
      "needs_background": "light"
     },
     "output_type": "display_data"
    },
    {
     "data": {
      "image/png": "[encoded data removed]",
      "text/plain": [
       "<Figure size 432x288 with 1 Axes>"
      ]
     },
     "metadata": {
      "needs_background": "light"
     },
     "output_type": "display_data"
    },
    {
     "data": {
      "image/png": "[encoded data removed]",
      "text/plain": [
       "<Figure size 432x288 with 1 Axes>"
      ]
     },
     "metadata": {
      "needs_background": "light"
     },
     "output_type": "display_data"
    }
   ],
   "source": []
  },
  {
   "cell_type": "code",
   "execution_count": 26,
   "metadata": {},
   "outputs": [],
   "source": [
    "model.save('covid_model.h5')"
   ]
  },
  {
   "cell_type": "code",
   "execution_count": 27,
   "metadata": {},
   "outputs": [
    {
     "name": "stdout",
     "output_type": "stream",
     "text": [
      "41/41 [==============================] - 89s 2s/step\n"
     ]
    },
    {
     "data": {
      "image/png": "[encoded data removed]",
      "text/plain": [
       "<Figure size 864x432 with 2 Axes>"
      ]
     },
     "metadata": {
      "needs_background": "light"
     },
     "output_type": "display_data"
    }
   ],
   "source": [
    "from sklearn.metrics import confusion_matrix, classification_report\n",
    "from sklearn.metrics import precision_recall_fscore_support, accuracy_score\n",
    "import matplotlib.pyplot as plt\n",
    "import seaborn as sns\n",
    "\n",
    "\n",
    "classes = [\"COVID19\", \"NORMAL\", \"PNEUMONIA\"]\n",
    "\n",
    "y_pred = model.predict(test_generator)\n",
    "predictions = np.array(list(map(lambda x: np.argmax(x), y_pred)))\n",
    "\n",
    "y_true=test_generator.classes\n",
    "\n",
    "CMatrix = pd.DataFrame(confusion_matrix(y_true, predictions), columns=classes, index =classes)\n",
    "\n",
    "plt.figure(figsize=(12, 6))\n",
    "ax = sns.heatmap(CMatrix, annot = True, fmt = 'g' ,vmin = 0, vmax = 250,cmap = 'Blues')\n",
    "ax.set_xlabel('Predicted',fontsize = 14,weight = 'bold')\n",
    "ax.set_xticklabels(ax.get_xticklabels(),rotation =0);\n",
    "\n",
    "ax.set_ylabel('Actual',fontsize = 14,weight = 'bold') \n",
    "ax.set_yticklabels(ax.get_yticklabels(),rotation =0);\n",
    "ax.set_title('Confusion Matrix - Test Set',fontsize = 16,weight = 'bold',pad=20);\n"
   ]
  },
  {
   "cell_type": "code",
   "execution_count": 28,
   "metadata": {},
   "outputs": [
    {
     "name": "stdout",
     "output_type": "stream",
     "text": [
      "              precision    recall  f1-score   support\n",
      "\n",
      "           0       0.05      0.05      0.05       116\n",
      "           1       0.23      0.28      0.25       317\n",
      "           2       0.65      0.60      0.63       855\n",
      "\n",
      "    accuracy                           0.47      1288\n",
      "   macro avg       0.31      0.31      0.31      1288\n",
      "weighted avg       0.49      0.47      0.48      1288\n",
      "\n"
     ]
    }
   ],
   "source": [
    "print(classification_report(y_true, predictions))"
   ]
  },
  {
   "cell_type": "code",
   "execution_count": 29,
   "metadata": {},
   "outputs": [],
   "source": [
    "filenames=test_generator.filenames\n",
    "predicted_classes = np.argmax(y_pred, axis=1)\n",
    "class_names = test_generator.class_indices\n",
    "class_names = {v: k for k, v in class_names.items()}\n",
    "predicted_class_names = [class_names[k] for k in predicted_classes]\n",
    "\n",
    "# Create a dataframe to store the results\n",
    "results_df = pd.DataFrame({'filename': filenames, 'predicted_class': predicted_class_names})\n",
    "\n",
    "# Add a column for the actual class\n",
    "results_df['actual_class'] = results_df['filename'].apply(lambda x: os.path.dirname(x))\n",
    "\n",
    "# Add a column for the image name\n",
    "results_df['image_name'] = results_df['filename'].apply(lambda x: os.path.basename(x))\n",
    "\n",
    "# Add a column for the image source folder name\n",
    "results_df['folder_name'] = results_df['filename'].apply(lambda x: os.path.basename(os.path.dirname(x)))\n",
    "\n",
    "# Reorder the columns\n",
    "results_df = results_df[['image_name', 'folder_name', 'actual_class', 'predicted_class']]\n",
    "\n",
    "# Save the results to a CSV file\n",
    "results_df.to_csv('results.csv', index=False)"
   ]
  }
 ],
 "metadata": {
  "kernelspec": {
   "display_name": "Python 3",
   "language": "python",
   "name": "python3"
  },
  "language_info": {
   "codemirror_mode": {
    "name": "ipython",
    "version": 3
   },
   "file_extension": ".py",
   "mimetype": "text/x-python",
   "name": "python",
   "nbconvert_exporter": "python",
   "pygments_lexer": "ipython3",
   "version": "3.10.11"
  },
  "orig_nbformat": 4
 },
 "nbformat": 4,
 "nbformat_minor": 2
}
